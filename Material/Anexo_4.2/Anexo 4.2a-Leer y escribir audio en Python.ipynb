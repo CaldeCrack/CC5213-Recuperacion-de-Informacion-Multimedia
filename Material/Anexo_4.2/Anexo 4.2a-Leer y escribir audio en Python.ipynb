{
 "cells": [
  {
   "cell_type": "markdown",
   "metadata": {},
   "source": [
    "# Leer y escribir audio en Python\n",
    "\n",
    "**Curso**: CC5213 - Recuperación de Información Multimedia  \n",
    "**Profesor**: Juan Manuel Barrios  \n",
    "**Fecha**: 28 de septiembre de 2023"
   ]
  },
  {
   "cell_type": "markdown",
   "metadata": {},
   "source": [
    "## Decodificando el Audio\n",
    "\n",
    "Un audio decodificado es un array de números, que representan el muestreo de la amplitud de la señal acústica a una tasa de tiempo fija.\n",
    "\n",
    "Para leer un archivo de audio se puede usar una herramienta para convertir un audio desde su formato comprimido (como un .mp3) a un formato descomprimido (como un array de bytes). El software más usado para codificar y decodificar audio y video es **FFmpeg** https://ffmpeg.org/\n",
    "\n",
    "Para instalarlo, en Linux basta hacer `apt install ffmpeg`. En Windows entrar a [Downloads](https://www.gyan.dev/ffmpeg/builds/), descargar `ffmpeg-release-full.7z` y obtener el archivo `ffmpeg.exe`.\n",
    "\n",
    "Al decodificar un audio es necesario decidir dos atributos:\n",
    "\n",
    " * **Tasa de muestreo** (sample rate). Cantidad de muestras por segundo. Comúnmente se usa 44100 samples/segundo para alta calidad. Se puede bajar a 22050, 11025, o incluso a 8192 para voz.\n",
    " \n",
    " * **Profundidad** (bit depth). Señala la cantidad de valores posibles de cada sample (la resolución). Comúnmente se usa 16 bits con signo `s16le`, es decir, cada sample es un número entero entre -32.768 y 32.767. Para edición de audio se suele usar 32 bits (cada sample es un float).\n",
    " \n",
    " \n",
    "### Crear y leer archivos .raw:\n",
    "\n",
    "Para decodificar un audio y obtener los samples en formato crudo (\"`.raw`\") usar el siguiente comando (Ver https://trac.ffmpeg.org/wiki/audio%20types):\n",
    "\n",
    "```\n",
    "ffmpeg -i video.mp4 -ac 1 -ar 8192 -acodec pcm_s16le -f s16le audio.raw\n",
    "```\n",
    "\n",
    " * `-i video.mp4` dice que se deber leer video.mp4 como entrada (input).    \n",
    " * `-ac 1` dice que se desea crear solo un canal de salida (mono).  \n",
    " * `-ar 8192` dice que la salida debe tener 8k samples por segundo.   \n",
    " * `-acodec pcm_s16le` dice que la salida debe tener un audio pcm_s16le (codificación).    \n",
    " * `-f s16le` dice que el archivo de salida (container) deben ser los bytes directamente (este parámetro es redundante ya que es el formato por defecto para el codec pcm_s16le).\n",
    " * `audio.raw` es el nombre del archivo de salida.\n",
    "\n",
    "Este comando crea el archivo `audio.raw` con los bytes de los samples con profundidad `s16le` y con una tasa de sampleo de 8192. El archivo `audio.raw` se pueden leer con python cargando los bytes del archivo a un array de enteros 16 bits con:\n",
    "```\n",
    "samples = numpy.fromfile(\"audio.raw\", dtype=numpy.int16)\n",
    "```\n",
    "\n",
    "Para reproducir los samples en memoria se puede usar un mini-reproductor que recibe el array de samples y la tasa de sampleo:\n",
    "```\n",
    "    import IPython.display as ipd    \n",
    "    ipd.Audio(samples, rate=8192)\n",
    "```\n",
    "\n",
    "Como el audio es un array de números, se puede operar con ellos normalmente (multiplicarlos, sumarlos, etc.). Solo se debe tener cuidado de no superar el límite numérico de la profundidad usada (-32.768 y 32.767 para 16 bits).\n",
    "\n",
    "Para volver a guardarlos en un archivo .raw hacer:\n",
    "```\n",
    "samples.tofile(\"audio.raw\")\n",
    "```\n",
    "\n",
    "\n",
    "### Formato .raw y .wav:\n",
    "\n",
    "El formato `.raw` solo contiene los bytes de los samples, por lo que es necesario guardar en alguna parte la tasa de sampleo (sample_rate) y la profundidad (bit depth) para poder interpretarlos bien. La ventaja es que no requiere de ninguna librería especial para su lectura.\n",
    "\n",
    "Por otra parte, el formato `.wav` es esencialmente el mismo formato `.raw` pero que incluye un encabezado donde guarda el sample_rate y el bit depth usado en el archivo. Para poder leer un archivo `.wav` es necesario usar una librería que soporte el formato.\n",
    "\n",
    "### Reproducir un archivo .raw:\n",
    "\n",
    "Para reproducir los samples guardados en un archivo `audio.raw` se puede usar `ffplay` o `vlc` (https://www.videolan.org/vlc/).\n",
    "\n",
    " * **Reproducir archivo raw (opción 1)**: `ffplay -f s16le -acodec pcm_s16le -ar 8192 audio.raw`\n",
    " * **Reproducir archivo raw (opción 2)**: `vlc --demux=rawaud --rawaud-channels 1 --rawaud-samplerate 8192 --rawaud-fourcc=s16l audio.raw`\n",
    "\n",
    "Es posible crear un archivo .mp3 (u otro formato) con FFmpeg:\n",
    "\n",
    " * **Codificar audio**: `ffmpeg -f s16le -acodec pcm_s16le -ar 8192 -i audio.raw audio.mp3`\n",
    "\n"
   ]
  },
  {
   "cell_type": "markdown",
   "metadata": {},
   "source": [
    "## Leyendo Audio\n",
    "\n",
    "Dado un video, usa ffmpeg para guardar el audio en un archivo que lee a memoria.\n",
    "\n",
    "Para reproducir el audio se usará VLC."
   ]
  },
  {
   "cell_type": "code",
   "execution_count": null,
   "metadata": {},
   "outputs": [],
   "source": [
    "import numpy\n",
    "import os.path\n",
    "import subprocess\n",
    "\n",
    "#funcion que recibe un nombre de archivo y llama a FFmpeg para crear un archivo raw\n",
    "def extraer_audio_raw(file_video, sample_rate):\n",
    "    file_raw = \"{}.{}.raw\".format(file_video, sample_rate) \n",
    "    if os.path.isfile(file_raw):\n",
    "        return file_raw\n",
    "    comando = [\"ffmpeg\", \"-i\", file_video, \"-ac\", \"1\", \"-ar\", str(sample_rate),\n",
    "                \"-acodec\", \"pcm_s16le\", \"-f\", \"s16le\",  file_raw]\n",
    "    print(\"INICIANDO: {}\".format(\" \".join(comando)))\n",
    "    code = subprocess.call(comando)\n",
    "    if code != 0:\n",
    "        raise Exception(\"ERROR en comando: \" + \" \".join(comando))\n",
    "    return file_raw\n",
    "\n",
    "#funcion que recibe un archivo raw y llama a vlc para reproducirlo\n",
    "def reproducir_audio_raw(file_raw, sample_rate):\n",
    "    comando = [\"vlc\", \"--demux=rawaud\", \"--rawaud-channels\", \"1\", \"--rawaud-samplerate\", \n",
    "               str(sample_rate), \"--rawaud-fourcc=s16l\", file_raw]\n",
    "    print(\"INICIANDO: {}\".format(\" \".join(comando)))\n",
    "    code = subprocess.call(comando)\n",
    "    if code != 0:\n",
    "        raise Exception(\"ERROR en comando: \" + \" \".join(comando))\n"
   ]
  },
  {
   "cell_type": "markdown",
   "metadata": {},
   "source": [
    "### Probando con un archivo de audio de ejemplo.\n",
    "\n",
    "Reproducirá en VLC un audio de 1 minuto y 28 segundos."
   ]
  },
  {
   "cell_type": "code",
   "execution_count": null,
   "metadata": {},
   "outputs": [],
   "source": [
    "file_vivaldi = \"vivaldi.mp3\"\n",
    "samplerate_vivaldi = 22050\n",
    "\n",
    "file_raw_vivaldi = extraer_audio_raw(file_vivaldi, samplerate_vivaldi)\n",
    "samples_vivaldi = numpy.fromfile(file_raw_vivaldi, dtype=numpy.int16);\n",
    "\n",
    "print(\"  cantidad samples vivaldi = {}\".format(len(samples_vivaldi)))\n",
    "print(\"  largo = {:.1f} segundos\".format( len(samples_vivaldi) / samplerate_vivaldi ))\n",
    "print(\"  min y max sample = {} {}\".format( min(samples_vivaldi), max(samples_vivaldi)))\n",
    "print(samples_vivaldi)\n",
    "print()\n",
    "print(\"reproduciendo: {}\".format(file_raw_vivaldi))\n",
    "reproducir_audio_raw(file_raw_vivaldi, samplerate_vivaldi)"
   ]
  },
  {
   "cell_type": "markdown",
   "metadata": {},
   "source": [
    "### Otro archivo de audio de ejemplo\n",
    "\n",
    "Reproduce en VLC un audio de 30 segundos."
   ]
  },
  {
   "cell_type": "code",
   "execution_count": null,
   "metadata": {},
   "outputs": [],
   "source": [
    "file_jaivas = \"jaivas.mp3\"\n",
    "samplerate_jaivas = 22050\n",
    "\n",
    "file_raw_jaivas = extraer_audio_raw(file_jaivas, samplerate_jaivas)\n",
    "samples_jaivas = numpy.fromfile(file_raw_jaivas, dtype=numpy.int16);\n",
    "\n",
    "print(\"  cantidad samples jaivas = {}\".format(len(samples_jaivas)))\n",
    "print(\"  largo = {:.1f} segundos\".format( len(samples_jaivas) / samplerate_jaivas ))\n",
    "print(\"  min y max sample = {} {}\".format( min(samples_jaivas), max(samples_jaivas)))\n",
    "print(samples_jaivas)\n",
    "print()\n",
    "print(\"reproduciendo: {}\".format(file_raw_jaivas))\n",
    "reproducir_audio_raw(file_raw_jaivas, samplerate_jaivas)"
   ]
  },
  {
   "cell_type": "markdown",
   "metadata": {},
   "source": [
    "### Graficando ambos audios"
   ]
  },
  {
   "cell_type": "code",
   "execution_count": null,
   "metadata": {},
   "outputs": [],
   "source": [
    "import matplotlib.pyplot as plt\n",
    "%matplotlib inline\n",
    "\n",
    "#funcion que imprime un array de samples\n",
    "def mostrar_samples(samples_array, titulo):\n",
    "    plt.figure(figsize=(25,5))\n",
    "    plt.title(titulo, {\"fontsize\":32})\n",
    "    plt.plot(samples_array)\n",
    "    plt.xlabel('Samples')\n",
    "    plt.ylabel('Amplitud')\n",
    "    plt.ylim(top=32767, bottom=-32768)\n",
    "    plt.yticks(numpy.arange(-30000, 30001, step=10000))\n",
    "    plt.margins(0)\n",
    "    plt.show()\n",
    "\n",
    "mostrar_samples(samples_jaivas, \"Vivaldi\")\n",
    "\n",
    "mostrar_samples(samples_vivaldi, \"Jaivas\")\n"
   ]
  },
  {
   "cell_type": "markdown",
   "metadata": {},
   "source": [
    "### Sumar ambas ondas de audio\n",
    "\n",
    "Ambos audios deben tener el mismo sample rate. Se debe tener cuidado de no superar el límite de los 16 bits.  \n",
    "El resultado se guarda en un archivo `.raw` y se reproduce con VLC."
   ]
  },
  {
   "cell_type": "code",
   "execution_count": null,
   "metadata": {},
   "outputs": [],
   "source": [
    "def sumar_samples(samples1, samples2):\n",
    "    largo = min(len(samples1), len(samples2))\n",
    "    nuevos_samples = numpy.zeros(largo, dtype=numpy.int16) \n",
    "    for i in range(largo):\n",
    "        #sample audio 1\n",
    "        val1 = int(samples1[i])\n",
    "        #sample audio 2\n",
    "        val2 = int(samples2[i])\n",
    "        # sumar ambos\n",
    "        val = int((val1 + val2))\n",
    "        # saturacion\n",
    "        if val > 32767:\n",
    "            val = 32767\n",
    "        elif val < -32768:\n",
    "            val = -32768\n",
    "        # guardar el nuevo valor\n",
    "        nuevos_samples[i] = val \n",
    "    return nuevos_samples\n",
    "\n",
    "nuevos_samples = sumar_samples(samples_vivaldi, samples_jaivas)\n",
    "\n",
    "nuevo_archivo_raw = \"suma.raw\" \n",
    "\n",
    "print(\"guardando archivo {}\".format(nuevo_archivo_raw))\n",
    "nuevos_samples.tofile(nuevo_archivo_raw)\n",
    "\n",
    "mostrar_samples(nuevos_samples, \"Vivaldi+Jaivas\")\n",
    "\n",
    "print(\"reproduciendo {}\".format(nuevo_archivo_raw))\n",
    "reproducir_audio_raw(nuevo_archivo_raw, samplerate_vivaldi)\n"
   ]
  },
  {
   "cell_type": "markdown",
   "metadata": {},
   "source": [
    "### Efecto de eco (repetir el mismo audio con cierto desfase)\n",
    "\n",
    "Se copia la misma onda con un leve desfase. Se usa el reproductor interno de python."
   ]
  },
  {
   "cell_type": "code",
   "execution_count": null,
   "metadata": {},
   "outputs": [],
   "source": [
    "import IPython.display as ipd    \n",
    "    \n",
    "def hacer_eco(samples, samplerate, segundos_desfase):\n",
    "    samples_desfase = int(samplerate * segundos_desfase)\n",
    "    nuevos_samples = numpy.zeros(len(samples), dtype=numpy.int16) \n",
    "    for i in range(samples_desfase, len(samples)):\n",
    "        #sample actual\n",
    "        val1 = int(samples[i])\n",
    "        #sample anterior\n",
    "        val2 = int(samples[i - samples_desfase])\n",
    "        # sumar ambos, menor ponderacion al eco\n",
    "        val = int((val1 + 0.5 * val2))\n",
    "        # saturacion\n",
    "        if val > 32767:\n",
    "            val = 32767\n",
    "        elif val < -32768:\n",
    "            val = -32768\n",
    "        # guardar el nuevo valor\n",
    "        nuevos_samples[i] = val \n",
    "    return nuevos_samples\n",
    "\n",
    "samples_eco = hacer_eco(samples_jaivas, samplerate_jaivas, 0.3)\n",
    "ipd.Audio(samples_eco, rate=samplerate_jaivas, autoplay=True)\n"
   ]
  }
 ],
 "metadata": {
  "kernelspec": {
   "display_name": "Python 3 (ipykernel)",
   "language": "python",
   "name": "python3"
  },
  "language_info": {
   "codemirror_mode": {
    "name": "ipython",
    "version": 3
   },
   "file_extension": ".py",
   "mimetype": "text/x-python",
   "name": "python",
   "nbconvert_exporter": "python",
   "pygments_lexer": "ipython3",
   "version": "3.10.11"
  }
 },
 "nbformat": 4,
 "nbformat_minor": 4
}
