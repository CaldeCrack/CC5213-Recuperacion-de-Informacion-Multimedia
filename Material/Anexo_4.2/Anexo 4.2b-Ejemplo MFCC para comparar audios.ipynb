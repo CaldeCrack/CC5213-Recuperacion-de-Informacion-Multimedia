{
 "cells": [
  {
   "cell_type": "markdown",
   "id": "282a610c",
   "metadata": {},
   "source": [
    "# Comparando audios con descriptores MFCC\n",
    "\n",
    "**Curso**: CC5213 - Recuperación de Información Multimedia  \n",
    "**Profesor**: Juan Manuel Barrios  \n",
    "**Fecha**: 28 de septiembre de 2023"
   ]
  },
  {
   "cell_type": "markdown",
   "id": "6f18759e",
   "metadata": {},
   "source": [
    "\n",
    " Para calcular descriptores de un audio se puede usar la librería **LibROSA** con:\n",
    " \n",
    " ```\n",
    " pip install librosa\n",
    " ```\n",
    "\n",
    "NO USAR `conda install` porque aparecerá un error por un error de versiones (al menos la versión para windows).\n",
    "\n",
    "\n",
    "LibROSA puede leer archivos `wav` y retorna los samples con su samplerate con la funcion https://librosa.org/doc/main/generated/librosa.load.html:\n",
    "\n",
    "```\n",
    "    samples, sample_rate = librosa.load(archivo_wav, sr=None)\n",
    "```\n",
    "\n",
    "El argumento `sr` es el sample_rate de los samples retornados. Por defecto usa `sr=22050`  (hace una conversion). Con `sr=None` usar el mismo sample_rate del archivo wav.\n",
    "\n",
    "Para convertir cualquier audio o video a wav usaremos FFmpeg.\n",
    "\n",
    "Para calcular descriptores usaremos la implementación de MFCC https://librosa.org/doc/main/generated/librosa.feature.mfcc.html:\n",
    "\n",
    "```\n",
    "    matriz = librosa.feature.mfcc(y=samples, sr=sr, n_mfcc=dimension, n_fft=ventana, hop_length=salto)\n",
    "    descriptores_mfcc = matriz.transpose()\n",
    "```\n",
    "\n",
    " * `n_mfcc` es la dimensión de los descriptores a calcular (cantidad de canales a representar). Usualmente un número entre 20 y 30.\n",
    " * `n_fft` es el tamaño de ventana a representar (cantidad de samples). Idealmente debe ser potencia de 2 (e.g. 512, 1024, 2048, 4096, 8192) para que el cálculo de la Transformada de Fourier sea rápido.\n",
    " * `hop_length` es la cantidad de samples a desplazarse para calcular el siguiente descriptor. Usualmente el mismo número `n_fft` para no tener traslape o `n_fft/2` para tener un traslape de la mitad de la ventana.\n",
    "\n",
    "Notar que LibROSA retorna **descriptores como columnas**, pero comúnmente para calcular distancias los descriptores se usan como filas, por lo que es recomendable llamar a la función `transpose()` para retornarlos como fila.\n",
    "\n",
    "En el descriptor MFCC usualmente es buena idea descartar la primera dimensión, ya que está relacionada al volumen global del audio."
   ]
  },
  {
   "cell_type": "code",
   "execution_count": 4,
   "id": "99e5a3dc",
   "metadata": {},
   "outputs": [
    {
     "name": "stdout",
     "output_type": "stream",
     "text": [
      "ventana=4096 samples (93 milisegundos)\n",
      "salto  =4096 samples (93 milisegundos)\n",
      "creando: vivaldi.mp3.44100.wav\n",
      "audio samples=3916662 samplerate=44100 segundos=88.8\n",
      "\n",
      "matriz de descriptores MFCC\n",
      "  filas=957 columnas=10 tipo=float32\n"
     ]
    },
    {
     "data": {
      "text/plain": [
       "array([[-3.57967438e+02,  1.05496704e+02,  1.84203815e+00, ...,\n",
       "         2.57199526e+00,  4.04624653e+00,  1.28480780e+00],\n",
       "       [-3.70760712e+02,  9.03441315e+01, -4.36153269e+00, ...,\n",
       "         3.59831238e+00,  6.08753777e+00,  4.37231922e+00],\n",
       "       [-2.93824249e+02,  1.03543488e+02, -5.23230133e+01, ...,\n",
       "         2.97548699e+00, -1.89722884e+00,  1.30253077e-01],\n",
       "       ...,\n",
       "       [-4.15691071e+02,  6.96206360e+01,  2.63539066e+01, ...,\n",
       "         1.28780651e+00,  4.95950127e+00,  6.54241657e+00],\n",
       "       [-4.13459290e+02,  7.31436310e+01,  2.71731262e+01, ...,\n",
       "         6.74556351e+00,  9.10780621e+00,  9.70648098e+00],\n",
       "       [-3.51813385e+02,  1.03926956e+02, -6.33296728e+00, ...,\n",
       "         2.95320845e+00,  4.34820414e+00,  3.35815907e+00]], dtype=float32)"
      ]
     },
     "execution_count": 4,
     "metadata": {},
     "output_type": "execute_result"
    }
   ],
   "source": [
    "import numpy\n",
    "import librosa\n",
    "import os.path\n",
    "import subprocess\n",
    "\n",
    "def convertir_a_wav(archivo_audio, sample_rate):\n",
    "    archivo_wav = \"{}.{}.wav\".format(archivo_audio, sample_rate) \n",
    "    print(\"creando: {}\".format(archivo_wav))\n",
    "    if os.path.isfile(archivo_wav):\n",
    "        return archivo_wav\n",
    "    comando = [\"ffmpeg\", \"-i\", archivo_audio, \"-ac\", \"1\", \"-ar\", str(sample_rate), archivo_wav]\n",
    "    print(\"INICIANDO: {}\".format(\" \".join(comando)))\n",
    "    code = subprocess.call(comando)\n",
    "    if code != 0:\n",
    "        raise Exception(\"ERROR!\")\n",
    "    return archivo_wav\n",
    "    \n",
    "def calcular_descriptores_mfcc(archivo_wav, samples_por_ventana, samples_salto, dimension):\n",
    "    # leer audio\n",
    "    samples, sr = librosa.load(archivo_wav, sr=None)\n",
    "    print(\"audio samples={} samplerate={} segundos={:.1f}\".format(len(samples), sr, len(samples) / sr))\n",
    "    # calcular MFCC\n",
    "    mfcc = librosa.feature.mfcc(y=samples, sr=sr, n_mfcc=dimension, n_fft=samples_por_ventana, hop_length=samples_salto)\n",
    "    # convertir a descriptores por fila\n",
    "    descriptores = mfcc.transpose()\n",
    "    # usualmente es buena idea borrar la(s) primera(s) columna(s)\n",
    "    return descriptores\n",
    "\n",
    "def calcular_mfcc_archivo(archivo_audio, sample_rate, samples_por_ventana, samples_salto, dimension):\n",
    "    archivo_wav = convertir_a_wav(archivo_audio, sample_rate)\n",
    "    descriptores = calcular_descriptores_mfcc(archivo_wav, samples_por_ventana, samples_salto, dimension)\n",
    "    return descriptores\n",
    "\n",
    "archivo_audio = \"vivaldi.mp3\"\n",
    "sample_rate = 44100          #calidad del audio (44100 es HD, se puede bajar)\n",
    "samples_por_ventana = 4096   #tamaño de la ventana a la que se calcula un descriptor MFCC (usualmente unas 5 a 10 por segundo)\n",
    "samples_salto = 4096         #se puede proabr con un  el salto es menor al tamaño de la ventana para que haya traslape entre ventanas\n",
    "dimension = 10               #largo del descriptor MFCC (usualmente entre 10 a 64)\n",
    "\n",
    "print(\"ventana={} samples ({:.0f} milisegundos)\".format(samples_por_ventana, samples_por_ventana/sample_rate*1000))\n",
    "print(\"salto  ={} samples ({:.0f} milisegundos)\".format(samples_salto, samples_salto/sample_rate*1000))\n",
    "\n",
    "descriptores_mfcc = calcular_mfcc_archivo(archivo_audio, sample_rate, samples_por_ventana, samples_salto, dimension)\n",
    "\n",
    "print()\n",
    "print(\"matriz de descriptores MFCC\")\n",
    "print(\"  filas={} columnas={} tipo={}\".format(descriptores_mfcc.shape[0], descriptores_mfcc.shape[1], descriptores_mfcc.dtype))\n",
    "\n",
    "descriptores_mfcc"
   ]
  },
  {
   "cell_type": "markdown",
   "id": "093cb865",
   "metadata": {},
   "source": [
    "# Buscar la aparición de segmentos conocidos dentro de un audio desconocido\n",
    "\n",
    "### Primero se calculan descriptores de los audios conocidos (conjunto R)"
   ]
  },
  {
   "cell_type": "code",
   "execution_count": null,
   "id": "2ffa2bc0",
   "metadata": {
    "scrolled": false
   },
   "outputs": [],
   "source": [
    "class Ventana:\n",
    "    def __init__(self, nombre_archivo, segundos_desde, segundos_hasta):\n",
    "        self.nombre_archivo = nombre_archivo\n",
    "        self.segundos_desde = segundos_desde\n",
    "        self.segundos_hasta = segundos_hasta\n",
    "    \n",
    "    def __str__(self):\n",
    "        return \"{} [{:6.3f}-{:6.3f}]\".format(self.nombre_archivo, self.segundos_desde, self.segundos_hasta)\n",
    "\n",
    "def lista_ventanas(nombre_archivo, numero_descriptores, sample_rate, samples_por_ventana):\n",
    "    # tantas ventanas como numero de descriptores\n",
    "    tiempos = []\n",
    "    for i in range(0, samples_por_ventana * numero_descriptores, samples_por_ventana):\n",
    "        # tiempo de inicio de la ventana\n",
    "        segundos_desde = i / sample_rate\n",
    "        # tiempo de fin de la ventana\n",
    "        segundos_hasta = (i + samples_por_ventana - 1) / sample_rate\n",
    "        # crear objeto\n",
    "        v = Ventana(nombre_archivo, segundos_desde, segundos_hasta)\n",
    "        # agregar a la lista\n",
    "        tiempos.append(v)\n",
    "    return tiempos\n",
    "\n",
    "\n",
    "def calcular_mfcc_varios_archivos(lista_archivos, sample_rate, samples_por_ventana, samples_salto, dimension):\n",
    "    descriptores_mfcc = []\n",
    "    descriptores_ventanas = []\n",
    "    for nombre_archivo in lista_archivos:\n",
    "        audio_mfcc = calcular_mfcc_archivo(nombre_archivo, sample_rate, samples_por_ventana, samples_salto, dimension)\n",
    "        audio_ventanas = lista_ventanas(nombre_archivo, audio_mfcc.shape[0], sample_rate, samples_por_ventana)\n",
    "        print(\"  descriptores: {}\".format(audio_mfcc.shape))\n",
    "        if len(descriptores_mfcc) == 0:\n",
    "            descriptores_mfcc = audio_mfcc\n",
    "        else:\n",
    "            # agregar como filas\n",
    "            descriptores_mfcc = numpy.vstack([descriptores_mfcc, audio_mfcc])\n",
    "        # agregar al final\n",
    "        descriptores_ventanas.extend(audio_ventanas)\n",
    "    return descriptores_ventanas, descriptores_mfcc\n",
    "   \n",
    "def imprimir_ventanas(ventanas, mfcc, muestreo_ventanas=1):\n",
    "    print(\"ventanas={} descriptores={}\".format(len(ventanas), mfcc.shape))\n",
    "    print(\"mostrando algunas ventanas:\")\n",
    "    for i in range(0, len(ventanas), muestreo_ventanas):\n",
    "        print(\" {:4d}) {} descriptor={}\".format(i, ventanas[i], mfcc[i].shape))\n",
    "    \n",
    "sample_rate = 44100\n",
    "samples_por_ventana = 4096\n",
    "samples_salto = 4096\n",
    "dimension = 10\n",
    "archivos_conocidos = [\"vivaldi.mp3\", \"jaivas.mp3\"]\n",
    "\n",
    "ventanas_conocidos, mfcc_conocidos = calcular_mfcc_varios_archivos(archivos_conocidos, sample_rate, samples_por_ventana, samples_salto, dimension)\n",
    "\n",
    "#escribir los descriptores de audios conocidos\n",
    "print()\n",
    "print(\"descriptores conocidos\")\n",
    "imprimir_ventanas(ventanas_conocidos, mfcc_conocidos, 50)"
   ]
  },
  {
   "cell_type": "markdown",
   "id": "861fac68",
   "metadata": {},
   "source": [
    "### Se calculan descriptores de un audio desconocido (conjunto Q)"
   ]
  },
  {
   "cell_type": "code",
   "execution_count": null,
   "id": "ca575917",
   "metadata": {
    "scrolled": false
   },
   "outputs": [],
   "source": [
    "#audio consulta\n",
    "query_archivo = \"trozos.mp3\"\n",
    "\n",
    "ventanas_query, mfcc_query = calcular_mfcc_varios_archivos([query_archivo], sample_rate, samples_por_ventana, samples_salto, dimension)\n",
    "\n",
    "print(\"Query: ventanas={} descriptores={}\".format(len(ventanas_query), mfcc_query.shape))\n",
    "#escribir los descriptores de audios conocidos\n",
    "print()\n",
    "print(\"descriptores audio desconocido\")\n",
    "imprimir_ventanas(ventanas_query, mfcc_query, 50)\n"
   ]
  },
  {
   "cell_type": "markdown",
   "id": "1d04a11e",
   "metadata": {},
   "source": [
    "### Comparar descriptores del audio desconocido (Q) con los descriptores de los audios conocidos (R)\n",
    "\n",
    "Con cdist se comparan todos los descriptores de Q contra todos los descriptores de R y entrega la matriz de distancias."
   ]
  },
  {
   "cell_type": "code",
   "execution_count": null,
   "id": "e5fa3a83",
   "metadata": {},
   "outputs": [],
   "source": [
    "import scipy\n",
    "\n",
    "matriz_distancias = scipy.spatial.distance.cdist(mfcc_query, mfcc_conocidos, metric='euclidean')\n",
    "print(matriz_distancias.shape)\n",
    "matriz_distancias"
   ]
  },
  {
   "cell_type": "markdown",
   "id": "c3bdb413",
   "metadata": {},
   "source": [
    "### Para cada descriptor de Q mostrar la ventana más parecida de R\n",
    "\n",
    "Cada ventana se identifica por el nombre del archivo y el intervalo de tiempo que representa."
   ]
  },
  {
   "cell_type": "code",
   "execution_count": null,
   "id": "b5310856",
   "metadata": {
    "scrolled": false
   },
   "outputs": [],
   "source": [
    "#obtener la posicion del mas cercano por fila\n",
    "posicion_min = numpy.argmin(matriz_distancias, axis=1)\n",
    "minimo = numpy.amin(matriz_distancias, axis=1)\n",
    "\n",
    "for i in range(len(ventanas_query)):\n",
    "    query = ventanas_query[i]\n",
    "    conocido = ventanas_conocidos[posicion_min[i]]\n",
    "    diferencia = (conocido.segundos_desde - query.segundos_desde)\n",
    "    print(\" {:4d}) {}  se parece a  {}    (diferencia tiempos={:4.1f} seg.)\".format(i, query, conocido, diferencia))"
   ]
  },
  {
   "cell_type": "markdown",
   "id": "4bf1675b",
   "metadata": {},
   "source": [
    "Notar que  en las zonas donde hay coincidencia de audio, los tiempos de ambas ventanas van avanzando al mismo tiempo, es decir, la diferencia entre los tiempos de sus ventanas `conocido.segundos_desde - query.segundos_desde` se mantiene constante.  \n",
    "\n",
    "Si se agrupan las diferencias de tiempo que más se repiten, se pueden localizar las regiones comunes entre audios.\n",
    "\n",
    "Por ejemplo, viendo la lista anterior se puede concluir que:\n",
    "\n",
    " * En `trozo.mp3` entre [0.186 y 5.759] se escucha el audio de `vivaldi.mp3` entre los segundos 48.019 y 53.313 (es decir, tienen un desfase de 47.6 segundos).\n",
    " * En `trozos.mp3` entre [5.851 y 8.916] se escucha `jaivas.mp3` entre [29.536 y 32.601]  (es decir, tienen un desfase de 23.7 segundos)\n",
    "\n"
   ]
  }
 ],
 "metadata": {
  "kernelspec": {
   "display_name": "Python 3 (ipykernel)",
   "language": "python",
   "name": "python3"
  },
  "language_info": {
   "codemirror_mode": {
    "name": "ipython",
    "version": 3
   },
   "file_extension": ".py",
   "mimetype": "text/x-python",
   "name": "python",
   "nbconvert_exporter": "python",
   "pygments_lexer": "ipython3",
   "version": "3.10.11"
  }
 },
 "nbformat": 4,
 "nbformat_minor": 5
}
